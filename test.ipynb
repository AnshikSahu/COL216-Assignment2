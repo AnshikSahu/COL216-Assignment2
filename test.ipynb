{
 "cells": [
  {
   "cell_type": "code",
   "execution_count": 116,
   "id": "bd4b381a",
   "metadata": {},
   "outputs": [],
   "source": [
    "class Command:\n",
    "    def __init__(self,in1,in2,in3,in4,in5,in6,in7,in8):\n",
    "        self.intermediatelatchesactive=in1\n",
    "        self.intermediatelatchlength=in6\n",
    "        self.numberofstages=len(in2)\n",
    "        self.stagelengths=in2\n",
    "        self.bypassindex=in4\n",
    "        self.readindex=in5\n",
    "        self.destinationregister=in3[0]\n",
    "        self.sourceregister1=in3[1]\n",
    "        self.sourceregister2=in3[2]\n",
    "        self.stagenames=in7\n",
    "        self.stageid=in8\n",
    "class Registerfile:\n",
    "    def __init__(self,in1):\n",
    "        self.size=in1\n",
    "        self.updatetime=[0]*self.size\n",
    "        self.intermediateupdatetime=[0]*self.size\n",
    "class Pipeline:\n",
    "    class Runtimedata:\n",
    "        def __init__(self,in1,in2,in3):\n",
    "            self.command=in1\n",
    "            self.starttime=in2\n",
    "            self.stages=[[None,None,None]]*in3\n",
    "    def __init__(self,in1,in2,in3,in4):\n",
    "        self.bypassactive=in2\n",
    "        self.symmetryactive=in3\n",
    "        self.stageemptytime=[0]*in1\n",
    "        self.numberofregisters=in4\n",
    "        self.registerfile=Registerfile(self.numberofregisters)\n",
    "        self.history=[]\n",
    "    def run(self,in1):\n",
    "        command=Command(False,in1.stagelengths,[in1.destinationregister,in1.sourceregister1,in1.sourceregister2],in1.bypassindex,in1.readindex,in1.intermediatelatchlength,in1.stagenames,in1.stageid)\n",
    "        if(in1.intermediatelatchesactive):\n",
    "            command.stagelengths=[command.stagelengths[i]+command.intermediatelatchlength for i in range(command.numberofstages)]\n",
    "            command.stagelengths[command.numberofstages-1]=command.stagelengths[command.numberofstages-1]-command.intermediatelatchlength\n",
    "        if(self.symmetryactive):\n",
    "            command.stagelengths=[max(command.stagelengths)]*command.numberofstages\n",
    "        runtime=self.Runtimedata(command,self.stageemptytime[0],command.numberofstages)\n",
    "        runtime.stages[0]=[command.stagenames[0],self.stageemptytime[0],None]\n",
    "        for i in command.stageid[:-1]:\n",
    "            endtime=runtime.stages[i][1]+command.stagelengths[i]\n",
    "            if(endtime<self.stageemptytime[i+1]):\n",
    "                endtime=self.stageemptytime[i+1]\n",
    "            if(i+1==command.bypassindex):\n",
    "                if(self.bypassactive):\n",
    "                    if(command.sourceregister1!=None):\n",
    "                        if(self.registerfile.intermediateupdatetime[command.sourceregister1]>endtime):\n",
    "                            endtime=self.registerfile.intermediateupdatetime[command.sourceregister1]\n",
    "                    if(command.sourceregister2!=None):\n",
    "                        if(self.registerfile.intermediateupdatetime[command.sourceregister2]>endtime):\n",
    "                            endtime=self.registerfile.intermediateupdatetime[command.sourceregister2]\n",
    "                else:\n",
    "                    if (command.sourceregister1 != None):\n",
    "                        if (self.registerfile.updatetime[command.sourceregister1] > endtime):\n",
    "                            endtime = self.registerfile.updatetime[command.sourceregister1]\n",
    "                    if (command.sourceregister2 != None):\n",
    "                        if (self.registerfile.updatetime[command.sourceregister2] > endtime):\n",
    "                            endtime = self.registerfile.updatetime[command.sourceregister2]\n",
    "            if(i==command.readindex):\n",
    "                self.registerfile.intermediateupdatetime[command.destinationregister]=endtime\n",
    "            runtime.stages[i][2]=endtime\n",
    "            runtime.stages[i+1]=[command.stagenames[i+1],endtime,None]\n",
    "            self.stageemptytime[i]=endtime\n",
    "        self.stageemptytime[command.stageid[-1]]=runtime.stages[-1][1]+command.stagelengths[-1]\n",
    "        self.registerfile.updatetime[command.destinationregister]=self.stageemptytime[command.stageid[-1]]\n",
    "        runtime.stages[-1][2]=self.stageemptytime[command.stageid[-1]]\n",
    "        self.history.append(runtime)\n",
    "    def print(self):\n",
    "        for entry in self.history:\n",
    "            print(entry.starttime,entry.stages)"
   ]
  },
  {
   "cell_type": "code",
   "execution_count": 117,
   "id": "a925952b",
   "metadata": {},
   "outputs": [],
   "source": [
    "pipeline=Pipeline(5,False,True,10)"
   ]
  },
  {
   "cell_type": "code",
   "execution_count": 123,
   "id": "69e08586",
   "metadata": {},
   "outputs": [],
   "source": [
    "command=Command(True,[30,50,120,200,70],[1,1,None],2,3,20,[\"IF\",\"ID\",\"ALU\",\"MEM\",\"WR\"],[0,1,2,3,4])"
   ]
  },
  {
   "cell_type": "code",
   "execution_count": 124,
   "id": "cb076f4e",
   "metadata": {},
   "outputs": [
    {
     "data": {
      "text/plain": [
       "[<__main__.Pipeline.Runtimedata at 0x10d1335b0>]"
      ]
     },
     "execution_count": 124,
     "metadata": {},
     "output_type": "execute_result"
    }
   ],
   "source": [
    "pipeline.history"
   ]
  },
  {
   "cell_type": "code",
   "execution_count": 125,
   "id": "e69c3cb2",
   "metadata": {},
   "outputs": [],
   "source": [
    "pipeline.run(command)"
   ]
  },
  {
   "cell_type": "code",
   "execution_count": 126,
   "id": "2a3f140d",
   "metadata": {},
   "outputs": [
    {
     "data": {
      "text/plain": [
       "<bound method Pipeline.print of <__main__.Pipeline object at 0x10cb8b8e0>>"
      ]
     },
     "execution_count": 126,
     "metadata": {},
     "output_type": "execute_result"
    }
   ],
   "source": [
    "pipeline.print"
   ]
  },
  {
   "cell_type": "code",
   "execution_count": 127,
   "id": "a298db20",
   "metadata": {
    "scrolled": false
   },
   "outputs": [
    {
     "name": "stdout",
     "output_type": "stream",
     "text": [
      "0 [['IF', 0, 220], ['ID', 220, 440], ['ALU', 440, 660], ['MEM', 660, 880], ['WR', 880, 1100]]\n",
      "220 [['IF', 220, 440], ['ID', 440, 1100], ['ALU', 1100, 1320], ['MEM', 1320, 1540], ['WR', 1540, 1760]]\n"
     ]
    }
   ],
   "source": [
    "pipeline.print()"
   ]
  },
  {
   "cell_type": "code",
   "execution_count": null,
   "id": "454f4dd6",
   "metadata": {},
   "outputs": [],
   "source": []
  }
 ],
 "metadata": {
  "kernelspec": {
   "display_name": "Python 3 (ipykernel)",
   "language": "python",
   "name": "python3"
  },
  "language_info": {
   "codemirror_mode": {
    "name": "ipython",
    "version": 3
   },
   "file_extension": ".py",
   "mimetype": "text/x-python",
   "name": "python",
   "nbconvert_exporter": "python",
   "pygments_lexer": "ipython3",
   "version": "3.9.12"
  }
 },
 "nbformat": 4,
 "nbformat_minor": 5
}
